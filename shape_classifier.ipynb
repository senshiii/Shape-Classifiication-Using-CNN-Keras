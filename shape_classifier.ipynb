{
 "cells": [
  {
   "cell_type": "code",
   "execution_count": null,
   "id": "23296371",
   "metadata": {},
   "outputs": [],
   "source": [
    "import pandas as pd\n",
    "import numpy as np\n",
    "import matplotlib.pyplot as plt\n",
    "import tensorflow as tf\n",
    "from keras.preprocessing.image import ImageDataGenerator"
   ]
  },
  {
   "cell_type": "markdown",
   "id": "57c1cb51",
   "metadata": {},
   "source": [
    "# Data Preprocessing"
   ]
  },
  {
   "cell_type": "code",
   "execution_count": null,
   "id": "08c3391f",
   "metadata": {},
   "outputs": [],
   "source": [
    "img_datagen = ImageDataGenerator(\n",
    "        rescale=1./255,\n",
    "        shear_range=0.2,\n",
    "        zoom_range=0.2,\n",
    "        horizontal_flip=True,\n",
    "        validation_split=.2)\n",
    "\n",
    "training_set = img_datagen.flow_from_directory(\n",
    "        'PATH_TO_YOUR_DATASET_DIR',\n",
    "        target_size=(64, 64),\n",
    "        batch_size=32,\n",
    "        class_mode='categorical',\n",
    "        subset='training'\n",
    ")\n",
    "\n",
    "valid_set = img_datagen.flow_from_directory(\n",
    "        'PATH_TO_YOUR_DATASET_DIR',\n",
    "        target_size=(64, 64),\n",
    "        batch_size=32,\n",
    "        class_mode='categorical',\n",
    "        subset='validation'\n",
    ")"
   ]
  },
  {
   "cell_type": "code",
   "execution_count": null,
   "id": "5356403b",
   "metadata": {},
   "outputs": [],
   "source": [
    "print(training_set.image_shape, valid_set.image_shape)\n",
    "print(training_set.batch_size, valid_set.batch_size)\n",
    "print(training_set.labels.shape, valid_set.labels.shape)"
   ]
  },
  {
   "cell_type": "code",
   "execution_count": null,
   "id": "7fdf2784",
   "metadata": {},
   "outputs": [],
   "source": [
    "def img_set_as_arr(dataset):\n",
    "    imgs = np.concatenate([dataset.next()[0] for i in range(len(dataset))])\n",
    "    labels = np.concatenate([dataset.next()[1] for i in range(len(dataset))])\n",
    "    return (imgs, labels)"
   ]
  },
  {
   "cell_type": "code",
   "execution_count": null,
   "id": "837ef855",
   "metadata": {},
   "outputs": [],
   "source": [
    "train_imgs, train_labels = img_set_as_arr(training_set)\n",
    "print(train_imgs.shape, train_labels.shape)"
   ]
  },
  {
   "cell_type": "code",
   "execution_count": null,
   "id": "a15e302f",
   "metadata": {},
   "outputs": [],
   "source": [
    "plt.figure(figsize=(10,10))\n",
    "for i in range(9):\n",
    "    img = train_imgs[i]\n",
    "    label = train_labels[i]\n",
    "    plt.subplot(3,3, i+1)\n",
    "    plt.imshow(img)"
   ]
  },
  {
   "cell_type": "code",
   "execution_count": null,
   "id": "5324142c",
   "metadata": {},
   "outputs": [],
   "source": [
    "valid_imgs, valid_labels = img_set_as_arr(test_set)\n",
    "print(valid_imgs.shape, valid_labels.shape)"
   ]
  },
  {
   "cell_type": "code",
   "execution_count": null,
   "id": "6963c619",
   "metadata": {},
   "outputs": [],
   "source": [
    "plt.figure(figsize=(10,10))\n",
    "for i in range(9):\n",
    "    img = valid_imgs[i]\n",
    "    label = valid_imgs[i]\n",
    "    plt.subplot(3,3, i+1)\n",
    "    plt.imshow(img)"
   ]
  },
  {
   "cell_type": "markdown",
   "id": "3f09fb8b",
   "metadata": {},
   "source": [
    "# Building the CNN"
   ]
  },
  {
   "cell_type": "code",
   "execution_count": null,
   "id": "0e19e77f",
   "metadata": {},
   "outputs": [],
   "source": [
    "cnn = tf.keras.models.Sequential()\n",
    "cnn.add(tf.keras.layers.Conv2D(filters=32, kernel_size=3, activation='relu', input_shape=[64, 64, 3]))\n",
    "cnn.add(tf.keras.layers.MaxPool2D(pool_size=2, strides=2))\n",
    "cnn.add(tf.keras.layers.Conv2D(filters=32, kernel_size=3, activation='relu'))\n",
    "cnn.add(tf.keras.layers.MaxPool2D(pool_size=2, strides=2))\n",
    "cnn.add(tf.keras.layers.Flatten())\n",
    "cnn.add(tf.keras.layers.Dense(units=128, activation='relu'))\n",
    "cnn.add(tf.keras.layers.Dense(units=4, activation='softmax'))"
   ]
  },
  {
   "cell_type": "markdown",
   "id": "f88dfb1d",
   "metadata": {},
   "source": [
    "# Training the CNN"
   ]
  },
  {
   "cell_type": "code",
   "execution_count": null,
   "id": "57142b0f",
   "metadata": {},
   "outputs": [],
   "source": [
    "cnn.compile(optimizer='adam', loss='categorical_crossentropy', metrics=['accuracy'])"
   ]
  },
  {
   "cell_type": "code",
   "execution_count": null,
   "id": "be1dd3c7",
   "metadata": {},
   "outputs": [],
   "source": [
    "cnn.fit(training_set, validation_data=valid_set, epochs = 10)"
   ]
  },
  {
   "cell_type": "markdown",
   "id": "386e28ad",
   "metadata": {},
   "source": [
    "# Testing the CNN Model"
   ]
  },
  {
   "cell_type": "code",
   "execution_count": null,
   "id": "e9f03f21",
   "metadata": {},
   "outputs": [],
   "source": [
    "from keras.preprocessing import image"
   ]
  },
  {
   "cell_type": "code",
   "execution_count": null,
   "id": "1efa546e",
   "metadata": {},
   "outputs": [],
   "source": [
    "def predict_img_class(img_path):\n",
    "    img = image.load_img(img_path, target_size=(64,64))\n",
    "    img = image.img_to_array(img)\n",
    "    img = np.expand_dims(img, axis=0)\n",
    "    result = cnn.predict(img / 255.0)[0]\n",
    "    classes = list(training_set.class_indices)\n",
    "    prob_dist = {}\n",
    "    for i in range(len(result)):\n",
    "        prob_dist[classes[i]] = (result[i] * 100).round(2)\n",
    "    return (classes, prob_dist)"
   ]
  },
  {
   "cell_type": "code",
   "execution_count": null,
   "id": "f8938e16",
   "metadata": {},
   "outputs": [],
   "source": [
    "classes, prob_dis = predict_img_class('PATH_TO_IMAGE_YOU_WANT_TO_TEST')\n",
    "print('Probability of Each Shape: \\n', prob_dis)"
   ]
  },
  {
   "cell_type": "code",
   "execution_count": null,
   "id": "271f7973",
   "metadata": {},
   "outputs": [],
   "source": [
    "plt.figure(figsize=(5,5))\n",
    "plt.imshow(plt.imread('PATH_TO_IMAGE_YOU_WANT_TO_TEST'))\n",
    "plt.title('Testing Image Reveal')\n",
    "plt.show()"
   ]
  },
  {
   "cell_type": "code",
   "execution_count": null,
   "id": "ab622659",
   "metadata": {},
   "outputs": [],
   "source": []
  }
 ],
 "metadata": {
  "kernelspec": {
   "display_name": "Python 3",
   "language": "python",
   "name": "python3"
  },
  "language_info": {
   "codemirror_mode": {
    "name": "ipython",
    "version": 3
   },
   "file_extension": ".py",
   "mimetype": "text/x-python",
   "name": "python",
   "nbconvert_exporter": "python",
   "pygments_lexer": "ipython3",
   "version": "3.9.5"
  }
 },
 "nbformat": 4,
 "nbformat_minor": 5
}
